{
 "cells": [
  {
   "cell_type": "code",
   "execution_count": 40,
   "metadata": {},
   "outputs": [],
   "source": [
    "import math\n",
    "import random"
   ]
  },
  {
   "cell_type": "code",
   "execution_count": 41,
   "metadata": {},
   "outputs": [],
   "source": [
    "class scoreBoard:\n",
    "    def __init__(self):\n",
    "        self.scores = []\n",
    "    \n",
    "    def add_score(self, name, score):\n",
    "        self.scores.append((name, score)) \n",
    "    \n",
    "    def display_scores(self):\n",
    "        print(\"Scoreboard\\n_____________________\")\n",
    "        for name, score in reversed(self.scores): \n",
    "            print(f\"{name:<25} : {score}\\n____________________\")"
   ]
  },
  {
   "cell_type": "code",
   "execution_count": 42,
   "metadata": {},
   "outputs": [],
   "source": [
    "def getInput(a):\n",
    "    while True:\n",
    "        user_input = input(a)\n",
    "        if user_input.lower() == 'q':\n",
    "            return 'q'\n",
    "        try:\n",
    "            num = int(user_input)\n",
    "            if 10 <= num <= 100:\n",
    "                return num\n",
    "            else:\n",
    "                print(\"must be a number from 10 to 100\")\n",
    "        except ValueError:\n",
    "            print(\"must be a number from 10 to 100\")"
   ]
  },
  {
   "cell_type": "code",
   "execution_count": 43,
   "metadata": {},
   "outputs": [],
   "source": [
    "def playSquareRootGame():\n",
    "    num_guesses = 0\n",
    "    target = random.randint(10, 100)\n",
    "    target_sqrt = math.sqrt(target)\n",
    "    \n",
    "    while True:\n",
    "        guess = getInput(f\"{target_sqrt:.4f} is the square root of what number? \")\n",
    "        \n",
    "        if guess == 'q':\n",
    "            return -1 \n",
    "        \n",
    "        num_guesses += 1\n",
    "        \n",
    "        if guess < target:\n",
    "            print(\"too low, guess again:\")\n",
    "            \n",
    "        elif guess > target:\n",
    "            print(\"too high, guess again:\")\n",
    "            \n",
    "        else:\n",
    "            print(\"you got it baby!\")\n",
    "            return num_guesses"
   ]
  },
  {
   "cell_type": "code",
   "execution_count": 44,
   "metadata": {},
   "outputs": [],
   "source": [
    "def main():\n",
    "    \n",
    "    scoreboard = scoreBoard()\n",
    "    \n",
    "    while True:\n",
    "        print(\"Welcome! Press q to quit or any key to continue: \")\n",
    "        start_game = input()\n",
    "        \n",
    "        if start_game.lower() == 'q':\n",
    "            break\n",
    "        \n",
    "        num_guesses = playSquareRootGame()\n",
    "        \n",
    "        if num_guesses == -1:\n",
    "            break\n",
    "        \n",
    "        name = input(\"Good game! What is your name? : \")\n",
    "        scoreboard.add_score(name, num_guesses)\n",
    "    \n",
    "    if scoreboard.scores:\n",
    "        scoreboard.display_scores()\n",
    "       \n",
    "        min_score = min(score[1] for score in scoreboard.scores)\n",
    "        best_players = [score[0] for score in scoreboard.scores if score[1] == min_score]\n",
    "        \n",
    "        print(\"Congratulations to \", \", \".join(best_players), f\" you have the best score of {min_score}!\")\n",
    "        \n",
    "    print(\"Bye Bye !\")"
   ]
  },
  {
   "cell_type": "code",
   "execution_count": 45,
   "metadata": {},
   "outputs": [
    {
     "name": "stdout",
     "output_type": "stream",
     "text": [
      "Welcome! Press q to quit or any key to continue: \n",
      "too low, guess again:\n",
      "too low, guess again:\n",
      "you got it baby!\n",
      "Welcome! Press q to quit or any key to continue: \n",
      "too low, guess again:\n",
      "too low, guess again:\n",
      "too low, guess again:\n",
      "too high, guess again:\n",
      "you got it baby!\n",
      "Welcome! Press q to quit or any key to continue: \n",
      "too low, guess again:\n",
      "too low, guess again:\n",
      "too low, guess again:\n",
      "you got it baby!\n",
      "Welcome! Press q to quit or any key to continue: \n",
      "you got it baby!\n",
      "Welcome! Press q to quit or any key to continue: \n",
      "too low, guess again:\n",
      "too low, guess again:\n",
      "too low, guess again:\n",
      "too low, guess again:\n",
      "you got it baby!\n",
      "Welcome! Press q to quit or any key to continue: \n",
      "Scoreboard\n",
      "_____________________\n",
      "Shas                      : 5\n",
      "____________________\n",
      "13                        : 1\n",
      "____________________\n",
      "mahi                      : 4\n",
      "____________________\n",
      "Sally                     : 5\n",
      "____________________\n",
      "Shash                     : 3\n",
      "____________________\n",
      "Congratulations to  13  you have the best score of 1!\n",
      "Bye Bye !\n"
     ]
    }
   ],
   "source": [
    "main()"
   ]
  }
 ],
 "metadata": {
  "kernelspec": {
   "display_name": "Python 3.9.19 ('base')",
   "language": "python",
   "name": "python3"
  },
  "language_info": {
   "codemirror_mode": {
    "name": "ipython",
    "version": 3
   },
   "file_extension": ".py",
   "mimetype": "text/x-python",
   "name": "python",
   "nbconvert_exporter": "python",
   "pygments_lexer": "ipython3",
   "version": "3.9.19"
  },
  "orig_nbformat": 4,
  "vscode": {
   "interpreter": {
    "hash": "0a37cc5a35f6bf80425ebfe9e240c42661d5be670ea63a4061a17ee0f6be736d"
   }
  }
 },
 "nbformat": 4,
 "nbformat_minor": 2
}
